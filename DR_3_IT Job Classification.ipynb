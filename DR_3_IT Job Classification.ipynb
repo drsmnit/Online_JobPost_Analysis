{
 "cells": [
  {
   "cell_type": "markdown",
   "metadata": {},
   "source": [
    "# IT Job Classification"
   ]
  },
  {
   "cell_type": "markdown",
   "metadata": {},
   "source": [
    "##IT Job Classification: \n",
    "\n",
    "Main Goal:\n",
    "Build a classifier that can tell us from the job description and company description whether a job is IT or not, so that this column can be automatically populated for new job postings. After doing so, understand what important factors are which drives this classification. \n",
    "\n",
    "Sub Goal:\n",
    "For the IT Job classification business question, you should aim to create supervised learning classification models that are able to classify based on the job text data accurately, is it an IT job. "
   ]
  },
  {
   "cell_type": "code",
   "execution_count": 1,
   "metadata": {},
   "outputs": [],
   "source": [
    "import gensim\n",
    "import os\n",
    "import collections\n",
    "import smart_open\n",
    "import random\n",
    "import pandas as pd\n",
    "import numpy as np\n",
    "from sklearn.model_selection import train_test_split\n",
    "\n",
    "RANDOM_STATE = 4"
   ]
  },
  {
   "cell_type": "code",
   "execution_count": 6,
   "metadata": {},
   "outputs": [],
   "source": [
    "#tagging IT jobs with a label"
   ]
  },
  {
   "cell_type": "code",
   "execution_count": 2,
   "metadata": {},
   "outputs": [
    {
     "data": {
      "text/html": [
       "<div>\n",
       "<style scoped>\n",
       "    .dataframe tbody tr th:only-of-type {\n",
       "        vertical-align: middle;\n",
       "    }\n",
       "\n",
       "    .dataframe tbody tr th {\n",
       "        vertical-align: top;\n",
       "    }\n",
       "\n",
       "    .dataframe thead th {\n",
       "        text-align: right;\n",
       "    }\n",
       "</style>\n",
       "<table border=\"1\" class=\"dataframe\">\n",
       "  <thead>\n",
       "    <tr style=\"text-align: right;\">\n",
       "      <th></th>\n",
       "      <th>text</th>\n",
       "      <th>label</th>\n",
       "    </tr>\n",
       "  </thead>\n",
       "  <tbody>\n",
       "    <tr>\n",
       "      <th>0</th>\n",
       "      <td>[ameria, investment, consulting, company, job,...</td>\n",
       "      <td>False</td>\n",
       "    </tr>\n",
       "    <tr>\n",
       "      <th>1</th>\n",
       "      <td>[international, research, exchanges, board, ir...</td>\n",
       "      <td>False</td>\n",
       "    </tr>\n",
       "    <tr>\n",
       "      <th>2</th>\n",
       "      <td>[caucasus, environmental, ngo, network, cenn, ...</td>\n",
       "      <td>False</td>\n",
       "    </tr>\n",
       "    <tr>\n",
       "      <th>3</th>\n",
       "      <td>[manoff, group, job, title, bcc, specialist, p...</td>\n",
       "      <td>False</td>\n",
       "    </tr>\n",
       "    <tr>\n",
       "      <th>4</th>\n",
       "      <td>[yerevan, brandy, company, job, title, softwar...</td>\n",
       "      <td>True</td>\n",
       "    </tr>\n",
       "  </tbody>\n",
       "</table>\n",
       "</div>"
      ],
      "text/plain": [
       "                                                text  label\n",
       "0  [ameria, investment, consulting, company, job,...  False\n",
       "1  [international, research, exchanges, board, ir...  False\n",
       "2  [caucasus, environmental, ngo, network, cenn, ...  False\n",
       "3  [manoff, group, job, title, bcc, specialist, p...  False\n",
       "4  [yerevan, brandy, company, job, title, softwar...   True"
      ]
     },
     "execution_count": 2,
     "metadata": {},
     "output_type": "execute_result"
    }
   ],
   "source": [
    "df = pd.read_csv('C:\\\\Users\\\\deeparam\\\\Desktop\\\\DMCA\\\\Sols_DSP_Capstone_Projects_PS_Chegg_2019\\\\6. TEXT MINING - ONLINE JOB POSTING\\data job posts.csv')\n",
    "\n",
    "df['text'] = df.jobpost.apply(gensim.utils.simple_preprocess)\n",
    "df[\"label\"] = df.IT\n",
    "df = df[[\"text\", \"label\"]]\n",
    "df.head(5)"
   ]
  },
  {
   "cell_type": "markdown",
   "metadata": {},
   "source": [
    "## Defining a Function to 'Read and Preprocess Text'"
   ]
  },
  {
   "cell_type": "code",
   "execution_count": 4,
   "metadata": {},
   "outputs": [],
   "source": [
    "train, test = train_test_split(df, test_size=0.30, random_state=RANDOM_STATE, stratify=df[\"label\"])"
   ]
  },
  {
   "cell_type": "code",
   "execution_count": 5,
   "metadata": {},
   "outputs": [],
   "source": [
    "def read_corpus(dataframe, tokens_only=False):\n",
    "    for i, row in enumerate(dataframe.iterrows()):\n",
    "        if tokens_only:\n",
    "            yield row[1]['text']\n",
    "        else:\n",
    "            # For training data, add tags\n",
    "            yield gensim.models.doc2vec.TaggedDocument(row[1]['text'], [row[1]['label']])"
   ]
  },
  {
   "cell_type": "code",
   "execution_count": 6,
   "metadata": {
    "scrolled": true
   },
   "outputs": [],
   "source": [
    "train_corpus = list(read_corpus(train))\n",
    "test_corpus = list(read_corpus(test, tokens_only=True))"
   ]
  },
  {
   "cell_type": "code",
   "execution_count": 7,
   "metadata": {
    "scrolled": true
   },
   "outputs": [
    {
     "data": {
      "text/plain": [
       "[TaggedDocument(words=[u'career', u'center', u'ngo', u'title', u'english', u'language', u'courses', u'open', u'to', u'eligibility', u'criteria', u'everyone', u'location', u'yerevan', u'armenia', u'detail', u'description', u'whether', u'you', u're', u'just', u'getting', u'started', u'already', u'know', u'english', u'and', u'want', u'to', u'improve', u'your', u'skills', u'want', u'to', u'prepare', u'for', u'an', u'exam', u'or', u'test', u'you', u'can', u'find', u'the', u'right', u'course', u'here', u'our', u'instructors', u'help', u'students', u'learn', u'english', u'with', u'most', u'innovative', u'methods', u'career', u'center', u'announces', u'below', u'mentioned', u'english', u'language', u'courses', u'general', u'english', u'course', u'consisting', u'total', u'of', u'levels', u'with', u'the', u'duration', u'of', u'months', u'each', u'beginner', u'elementary', u'pre', u'intermediate', u'intermediate', u'upper', u'intermediate', u'advanced', u'final', u'specialized', u'courses', u'consisting', u'total', u'of', u'levels', u'with', u'the', u'duration', u'of', u'months', u'each', u'business', u'english', u'pre', u'intermediate', u'business', u'english', u'intermediate', u'business', u'english', u'upper', u'intermediate', u'final', u'business', u'english', u'courses', u'also', u'cover', u'special', u'business', u'writing', u'and', u'communication', u'classes', u'application', u'procedures', u'all', u'interested', u'candidates', u'should', u'visit', u'career', u'center', u'office', u'and', u'register', u'as', u'member', u'on', u'mondays', u'fridays', u'from', u'monthly', u'membership', u'fee', u'for', u'all', u'english', u'language', u'courses', u'is', u'amd', u'please', u'note', u'that', u'the', u'complete', u'fee', u'of', u'any', u'level', u'should', u'be', u'paid', u'at', u'the', u'time', u'of', u'starting', u'the', u'classes', u'registered', u'students', u'will', u'pass', u'written', u'placement', u'test', u'accompanied', u'with', u'oral', u'interview', u'and', u'be', u'placed', u'with', u'relevant', u'group', u'registrations', u'are', u'not', u'accepted', u'by', u'mail', u'or', u'telephone', u'for', u'additional', u'inquiries', u'on', u'registration', u'or', u'courses', u'please', u'contact', u'us', u'using', u'below', u'contact', u'information', u'please', u'clearly', u'mention', u'in', u'your', u'application', u'letter', u'that', u'you', u'learned', u'of', u'this', u'training', u'opportunity', u'through', u'career', u'center', u'and', u'mention', u'the', u'url', u'of', u'its', u'website', u'www', u'careercenter', u'am', u'thanks', u'application', u'deadline', u'rolling', u'groups', u'start', u'their', u'classes', u'as', u'soon', u'as', u'there', u'are', u'people', u'about', u'company', u'career', u'center', u'ngo', u'phone', u'fax', u'mail', u'mailbox', u'web', u'site', u'www', u'careercenter', u'am', u'address', u'abovyan', u'str', u'next', u'to', u'the', u'school', u'named', u'after', u'pushkin', u'yerevan', u'armenia', u'about', u'courses', u'newly', u'opened', u'city', u'central', u'location', u'adequately', u'furnished', u'dolby', u'digital', u'classrooms', u'with', u'dvd', u'vcr', u'and', u'tv', u'specially', u'designed', u'ergonomic', u'desks', u'chairs', u'max', u'people', u'in', u'group', u'ensuring', u'efficiency', u'of', u'the', u'courses', u'only', u'highly', u'qualified', u'and', u'certified', u'language', u'instructors', u'selected', u'by', u'career', u'center', u'will', u'teach', u'interested', u'individuals', u'with', u'the', u'latest', u'methods', u'using', u'the', u'most', u'decent', u'study', u'materials', u'for', u'each', u'particular', u'course', u'our', u'classes', u'are', u'conducted', u'in', u'english', u'language', u'only', u'classes', u'will', u'take', u'place', u'in', u'career', u'center', u'office', u'in', u'furnished', u'and', u'warm', u'room', u'for', u'the', u'whole', u'duration', u'of', u'their', u'studies', u'students', u'will', u'be', u'provided', u'with', u'necessary', u'books', u'and', u'materials', u'so', u'they', u'don', u'have', u'to', u'purchase', u'or', u'photocopy', u'any', u'study', u'materials', u'there', u'are', u'no', u'additional', u'charges', u'for', u'using', u'those', u'materials', u'sessions', u'will', u'be', u'held', u'times', u'week', u'and', u'each', u'of', u'those', u'will', u'last', u'hours', u'classes', u'are', u'on', u'from', u'till', u'monday', u'saturdays', u'the', u'attendance', u'hours', u'are', u'assigned', u'to', u'each', u'group', u'according', u'to', u'their', u'designated', u'time', u'schedule', u'all', u'students', u'passing', u'the', u'final', u'level', u'course', u'will', u'get', u'relevant', u'certificates', u'upon', u'completion', u'of', u'their', u'course', u'certificates', u'will', u'match', u'to', u'the', u'level', u'of', u'individual', u'knowledge', u'determined', u'by', u'the', u'final', u'exam', u'results', u'attention', u'those', u'who', u'fail', u'to', u'pass', u'the', u'final', u'level', u'exam', u'test', u'will', u'not', u'get', u'any', u'certificates', u'additional', u'notes', u'when', u'visiting', u'our', u'office', u'for', u'registration', u'please', u'plan', u'to', u'spend', u'about', u'minutes', u'to', u'take', u'the', u'language', u'proficiency', u'test', u'attachments', u'the', u'following', u'attachment', u'to', u'this', u'announcement', u'can', u'be', u'downloaded', u'from', u'http', u'www', u'careercenter', u'am', u'ccdspann', u'php', u'id', u'english', u'language', u'courses', u'in', u'armenian', u'english', u'courses', u'zip', u'to', u'place', u'free', u'posting', u'for', u'job', u'or', u'other', u'career', u'related', u'opportunities', u'available', u'in', u'your', u'organization', u'just', u'go', u'to', u'the', u'www', u'careercenter', u'am', u'website', u'and', u'follow', u'the', u'post', u'an', u'announcement', u'link'], tags=[False]),\n",
       " TaggedDocument(words=[u'deloitte', u'armenia', u'cjsc', u'title', u'audit', u'assistant', u'term', u'full', u'time', u'open', u'to', u'eligibility', u'criteria', u'all', u'interested', u'and', u'qualified', u'candidates', u'start', u'date', u'time', u'september', u'duration', u'permanent', u'probation', u'up', u'to', u'months', u'location', u'yerevan', u'armenia', u'job', u'description', u'deloitte', u'armenia', u'is', u'looking', u'for', u'successful', u'candidates', u'to', u'fill', u'the', u'position', u'of', u'an', u'audit', u'assistant', u'job', u'participate', u'in', u'audit', u'engagements', u'and', u'audit', u'of', u'financial', u'statements', u'according', u'to', u'ifrs', u'and', u'or', u'other', u'reporting', u'frameworks', u'review', u'the', u'clients', u'accounting', u'system', u'and', u'internal', u'control', u'system', u'carry', u'out', u'audit', u'tests', u'and', u'analytical', u'procedures', u'perform', u'audit', u'work', u'assigned', u'in', u'professional', u'manner', u'in', u'accordance', u'with', u'approved', u'work', u'program', u'participate', u'in', u'preparation', u'of', u'audit', u'reports', u'required', u'qualifications', u'higher', u'education', u'basic', u'knowledge', u'of', u'international', u'financial', u'reporting', u'standards', u'ifrs', u'basic', u'knowledge', u'of', u'the', u'republic', u'of', u'armenia', u'tax', u'and', u'labor', u'legislation', u'at', u'least', u'year', u'of', u'work', u'experience', u'in', u'accounting', u'auditing', u'is', u'plus', u'knowledge', u'of', u'as', u'accountant', u'or', u'other', u'accounting', u'software', u'is', u'mandatory', u'knowledge', u'of', u'english', u'and', u'russian', u'language', u'is', u'mandatory', u'spoken', u'and', u'written', u'ability', u'to', u'meet', u'deadlines', u'with', u'flexibility', u'and', u'professionalism', u'solid', u'audit', u'work', u'paper', u'documentation', u'skills', u'an', u'analytical', u'mind', u'and', u'problem', u'solving', u'abilities', u'dedicated', u'and', u'client', u'oriented', u'approach', u'to', u'work', u'ability', u'to', u'make', u'decisions', u'under', u'pressure', u'strong', u'team', u'player', u'with', u'excellent', u'verbal', u'and', u'written', u'communication', u'skills', u'acca', u'is', u'plus', u'application', u'procedures', u'please', u'submit', u'your', u'detailed', u'cv', u'highlighting', u'your', u'experience', u'and', u'professional', u'education', u'to', u'laghajanyan', u'please', u'clearly', u'indicate', u'the', u'position', u'you', u'apply', u'for', u'applications', u'with', u'no', u'indication', u'of', u'the', u'applying', u'position', u'will', u'not', u'be', u'accepted', u'cvs', u'not', u'meeting', u'required', u'qualification', u'will', u'not', u'be', u'discussed', u'no', u'phone', u'calls', u'please', u'only', u'selected', u'candidates', u'will', u'be', u'contacted', u'for', u'an', u'interview', u'please', u'clearly', u'mention', u'in', u'your', u'application', u'letter', u'that', u'you', u'learned', u'of', u'this', u'job', u'opportunity', u'through', u'career', u'center', u'and', u'mention', u'the', u'url', u'of', u'its', u'website', u'www', u'careercenter', u'am', u'thanks', u'opening', u'date', u'june', u'application', u'deadline', u'july', u'to', u'place', u'free', u'posting', u'for', u'job', u'or', u'other', u'career', u'related', u'opportunities', u'available', u'in', u'your', u'organization', u'just', u'go', u'to', u'the', u'www', u'careercenter', u'am', u'website', u'and', u'follow', u'the', u'post', u'an', u'announcement', u'link'], tags=[False]),\n",
       " TaggedDocument(words=[u'synopsys', u'armenia', u'title', u'accountant', u'term', u'full', u'time', u'duration', u'months', u'with', u'possible', u'extension', u'location', u'yerevan', u'armenia', u'job', u'description', u'under', u'the', u'direct', u'supervision', u'of', u'financial', u'controller', u'the', u'incumbent', u'will', u'have', u'various', u'accounting', u'in', u'finance', u'department', u'job', u'prepare', u'journal', u'entries', u'maintains', u'and', u'reconciles', u'ledger', u'accounts', u'provide', u'record', u'of', u'assets', u'liabilities', u'and', u'other', u'financial', u'transactions', u'perform', u'fixed', u'assets', u'accounting', u'maintain', u'receipts', u'and', u'disbursement', u'reports', u'perform', u'other', u'relevant', u'duties', u'as', u'may', u'be', u'required', u'by', u'immediate', u'supervisor', u'required', u'qualifications', u'university', u'degree', u'preferably', u'in', u'accounting', u'or', u'business', u'with', u'experience', u'in', u'accounting', u'and', u'finance', u'at', u'least', u'years', u'of', u'work', u'experience', u'in', u'accounting', u'knowledge', u'of', u'local', u'accounting', u'standards', u'and', u'local', u'tax', u'legislation', u'strong', u'knowledge', u'of', u'enterprise', u'strong', u'knowledge', u'of', u'excel', u'and', u'outlook', u'and', u'good', u'knowledge', u'of', u'other', u'ms', u'office', u'applications', u'knowledge', u'of', u'chart', u'of', u'account', u'taxation', u'of', u'ra', u'accounting', u'standards', u'high', u'self', u'organizational', u'skills', u'and', u'high', u'sense', u'of', u'responsibility', u'ability', u'to', u'introduce', u'analytic', u'thought', u'detail', u'oriented', u'personality', u'analytical', u'and', u'excellent', u'communication', u'skills', u'ability', u'to', u'work', u'under', u'pressure', u'and', u'meet', u'deadlines', u'strong', u'team', u'work', u'capacities', u'good', u'knowledge', u'of', u'armenian', u'and', u'english', u'languages', u'remuneration', u'salary', u'competitive', u'medical', u'insurance', u'application', u'procedures', u'please', u'submit', u'your', u'detailed', u'cv', u'directly', u'to', u'dianan', u'indicating', u'the', u'position', u'in', u'the', u'subject', u'line', u'of', u'your', u'mail', u'only', u'short', u'listed', u'candidates', u'will', u'be', u'contacted', u'please', u'clearly', u'mention', u'in', u'your', u'application', u'letter', u'that', u'you', u'learned', u'of', u'this', u'job', u'opportunity', u'through', u'career', u'center', u'and', u'mention', u'the', u'url', u'of', u'its', u'website', u'www', u'careercenter', u'am', u'thanks', u'opening', u'date', u'november', u'application', u'deadline', u'november', u'about', u'company', u'synopsys', u'inc', u'is', u'provider', u'of', u'electronic', u'design', u'automation', u'eda', u'software', u'and', u'services', u'synopsys', u'armenia', u'cjsc', u'was', u'established', u'in', u'october', u'by', u'synopsys', u'international', u'ltd', u'to', u'place', u'free', u'posting', u'for', u'job', u'or', u'other', u'career', u'related', u'opportunities', u'available', u'in', u'your', u'organization', u'just', u'go', u'to', u'the', u'www', u'careercenter', u'am', u'website', u'and', u'follow', u'the', u'post', u'an', u'announcement', u'link'], tags=[False])]"
      ]
     },
     "execution_count": 7,
     "metadata": {},
     "output_type": "execute_result"
    }
   ],
   "source": [
    "train_corpus[:3]"
   ]
  },
  {
   "cell_type": "code",
   "execution_count": 8,
   "metadata": {},
   "outputs": [
    {
     "data": {
      "text/plain": [
       "504"
      ]
     },
     "execution_count": 8,
     "metadata": {},
     "output_type": "execute_result"
    }
   ],
   "source": [
    "len(test_corpus[:1][0])"
   ]
  },
  {
   "cell_type": "markdown",
   "metadata": {},
   "source": [
    "## Training the Model\n",
    "\n",
    "#Instantiate a Doc2Vec Object"
   ]
  },
  {
   "cell_type": "code",
   "execution_count": 9,
   "metadata": {},
   "outputs": [],
   "source": [
    "model = gensim.models.doc2vec.Doc2Vec(vector_size=50, min_count=2, epochs=40)"
   ]
  },
  {
   "cell_type": "markdown",
   "metadata": {},
   "source": [
    "#Building Vocabulary"
   ]
  },
  {
   "cell_type": "code",
   "execution_count": 10,
   "metadata": {},
   "outputs": [],
   "source": [
    "model.build_vocab(train_corpus)"
   ]
  },
  {
   "cell_type": "markdown",
   "metadata": {},
   "source": [
    "#Training model"
   ]
  },
  {
   "cell_type": "code",
   "execution_count": 11,
   "metadata": {},
   "outputs": [
    {
     "name": "stdout",
     "output_type": "stream",
     "text": [
      "lapack_opt_info:\n",
      "    libraries = ['mkl_rt']\n",
      "    library_dirs = ['C:/Users/deeparam/AppData/Local/Continuum/anaconda2\\\\Library\\\\lib']\n",
      "    define_macros = [('SCIPY_MKL_H', None), ('HAVE_CBLAS', None)]\n",
      "    include_dirs = ['C:\\\\Program Files (x86)\\\\Intel\\\\Composer XE 2013 SP1\\\\mkl', 'C:\\\\Program Files (x86)\\\\Intel\\\\Composer XE 2013 SP1\\\\mkl\\\\include', 'C:\\\\Program Files (x86)\\\\Intel\\\\Composer XE 2013 SP1\\\\mkl\\\\lib', 'C:/Users/deeparam/AppData/Local/Continuum/anaconda2\\\\Library\\\\include']\n",
      "blas_opt_info:\n",
      "    libraries = ['mkl_rt']\n",
      "    library_dirs = ['C:/Users/deeparam/AppData/Local/Continuum/anaconda2\\\\Library\\\\lib']\n",
      "    define_macros = [('SCIPY_MKL_H', None), ('HAVE_CBLAS', None)]\n",
      "    include_dirs = ['C:\\\\Program Files (x86)\\\\Intel\\\\Composer XE 2013 SP1\\\\mkl', 'C:\\\\Program Files (x86)\\\\Intel\\\\Composer XE 2013 SP1\\\\mkl\\\\include', 'C:\\\\Program Files (x86)\\\\Intel\\\\Composer XE 2013 SP1\\\\mkl\\\\lib', 'C:/Users/deeparam/AppData/Local/Continuum/anaconda2\\\\Library\\\\include']\n",
      "lapack_mkl_info:\n",
      "    libraries = ['mkl_rt']\n",
      "    library_dirs = ['C:/Users/deeparam/AppData/Local/Continuum/anaconda2\\\\Library\\\\lib']\n",
      "    define_macros = [('SCIPY_MKL_H', None), ('HAVE_CBLAS', None)]\n",
      "    include_dirs = ['C:\\\\Program Files (x86)\\\\Intel\\\\Composer XE 2013 SP1\\\\mkl', 'C:\\\\Program Files (x86)\\\\Intel\\\\Composer XE 2013 SP1\\\\mkl\\\\include', 'C:\\\\Program Files (x86)\\\\Intel\\\\Composer XE 2013 SP1\\\\mkl\\\\lib', 'C:/Users/deeparam/AppData/Local/Continuum/anaconda2\\\\Library\\\\include']\n",
      "blas_mkl_info:\n",
      "    libraries = ['mkl_rt']\n",
      "    library_dirs = ['C:/Users/deeparam/AppData/Local/Continuum/anaconda2\\\\Library\\\\lib']\n",
      "    define_macros = [('SCIPY_MKL_H', None), ('HAVE_CBLAS', None)]\n",
      "    include_dirs = ['C:\\\\Program Files (x86)\\\\Intel\\\\Composer XE 2013 SP1\\\\mkl', 'C:\\\\Program Files (x86)\\\\Intel\\\\Composer XE 2013 SP1\\\\mkl\\\\include', 'C:\\\\Program Files (x86)\\\\Intel\\\\Composer XE 2013 SP1\\\\mkl\\\\lib', 'C:/Users/deeparam/AppData/Local/Continuum/anaconda2\\\\Library\\\\include']\n"
     ]
    }
   ],
   "source": [
    "np.show_config()"
   ]
  },
  {
   "cell_type": "code",
   "execution_count": 12,
   "metadata": {},
   "outputs": [
    {
     "name": "stdout",
     "output_type": "stream",
     "text": [
      "Wall time: 5min 14s\n"
     ]
    }
   ],
   "source": [
    "%time model.train(train_corpus, total_examples=model.corpus_count, epochs=model.epochs)"
   ]
  },
  {
   "cell_type": "markdown",
   "metadata": {},
   "source": [
    "##Inferring a Vector a vector for any piece of text without having to re-train the model by passing a list of words to the model.infer_vector function. \n",
    "\n",
    "This vector can then be compared with other vectors via cosine similarity."
   ]
  },
  {
   "cell_type": "code",
   "execution_count": 13,
   "metadata": {},
   "outputs": [
    {
     "data": {
      "text/plain": [
       "array([-0.12897097, -0.26804233, -0.39207235, -0.1295527 ,  0.1742033 ,\n",
       "        0.08659489,  0.09732154, -0.18926652,  0.01666071,  0.10198138,\n",
       "       -0.13985059,  0.09280643, -0.39471805,  0.18737549, -0.14535816,\n",
       "        0.01901447,  0.04802837,  0.27358568,  0.09447701, -0.6806455 ,\n",
       "        0.01766047,  0.09829775,  0.5440664 ,  0.4739469 ,  0.41044265,\n",
       "       -0.09056217,  0.20573795, -0.21327847,  0.3143653 ,  0.29843125,\n",
       "       -0.11171989,  0.13253078,  0.16666424, -0.14281313, -0.13087334,\n",
       "        0.79495144, -0.2131235 ,  0.12922905, -0.13735926,  0.05826812,\n",
       "        0.6371311 , -0.3850845 , -0.15900627, -0.02022621,  0.29563686,\n",
       "       -0.27366313, -0.1980835 , -0.18878055,  0.31496546,  0.12018483],\n",
       "      dtype=float32)"
      ]
     },
     "execution_count": 13,
     "metadata": {},
     "output_type": "execute_result"
    }
   ],
   "source": [
    "model.infer_vector(['only', 'you', 'can', 'prevent', 'forest', 'fires'])"
   ]
  },
  {
   "cell_type": "markdown",
   "metadata": {},
   "source": [
    "## Assessing Model\n",
    "\n",
    "We'll first infer new vectors for each document of the training corpus, comparing inferred vectors with the training corpus, and then returning the rank of the document based on self-similarity.Basically, we're pretending as if the training corpus is some new unseen data and then seeing how they compare with the trained model. "
   ]
  },
  {
   "cell_type": "code",
   "execution_count": 14,
   "metadata": {
    "scrolled": true
   },
   "outputs": [
    {
     "name": "stdout",
     "output_type": "stream",
     "text": [
      "Document (0): «career center ngo title english language courses open to eligibility criteria everyone location yerevan armenia detail description whether you re just getting started already know english and want to improve your skills want to prepare for an exam or test you can find the right course here our instructors help students learn english with most innovative methods career center announces below mentioned english language courses general english course consisting total of levels with the duration of months each beginner elementary pre intermediate intermediate upper intermediate advanced final specialized courses consisting total of levels with the duration of months each business english pre intermediate business english intermediate business english upper intermediate final business english courses also cover special business writing and communication classes application procedures all interested candidates should visit career center office and register as member on mondays fridays from monthly membership fee for all english language courses is amd please note that the complete fee of any level should be paid at the time of starting the classes registered students will pass written placement test accompanied with oral interview and be placed with relevant group registrations are not accepted by mail or telephone for additional inquiries on registration or courses please contact us using below contact information please clearly mention in your application letter that you learned of this training opportunity through career center and mention the url of its website www careercenter am thanks application deadline rolling groups start their classes as soon as there are people about company career center ngo phone fax mail mailbox web site www careercenter am address abovyan str next to the school named after pushkin yerevan armenia about courses newly opened city central location adequately furnished dolby digital classrooms with dvd vcr and tv specially designed ergonomic desks chairs max people in group ensuring efficiency of the courses only highly qualified and certified language instructors selected by career center will teach interested individuals with the latest methods using the most decent study materials for each particular course our classes are conducted in english language only classes will take place in career center office in furnished and warm room for the whole duration of their studies students will be provided with necessary books and materials so they don have to purchase or photocopy any study materials there are no additional charges for using those materials sessions will be held times week and each of those will last hours classes are on from till monday saturdays the attendance hours are assigned to each group according to their designated time schedule all students passing the final level course will get relevant certificates upon completion of their course certificates will match to the level of individual knowledge determined by the final exam results attention those who fail to pass the final level exam test will not get any certificates additional notes when visiting our office for registration please plan to spend about minutes to take the language proficiency test attachments the following attachment to this announcement can be downloaded from http www careercenter am ccdspann php id english language courses in armenian english courses zip to place free posting for job or other career related opportunities available in your organization just go to the www careercenter am website and follow the post an announcement link»\n",
      "\n",
      "Inferred Vector: [-0.8774203  -0.27702427  1.0307448   0.25916076  1.7595567  -1.282745\n",
      "  0.21094835 -1.5980352  -0.5547604  -0.92873013  0.1896198  -0.8236945\n",
      " -0.15482599 -1.0183889  -0.35013017 -1.1163535  -2.3925905  -1.0700061\n",
      "  0.74930036 -0.44808447 -0.2484365   0.16120814  2.9405289  -1.5172344\n",
      "  2.4418066  -0.75787175 -0.3688752  -1.2413893   1.7214344  -1.6479727\n",
      " -1.218006    0.67643815  1.9452887  -0.20392749 -1.0291622   0.0833036\n",
      "  0.80732495  0.55782634  0.74450696 -0.88177735  1.112281   -0.8962336\n",
      " -2.4812202  -1.2817653  -0.33018193 -1.8328146  -1.3970717  -0.1417708\n",
      "  1.3607965  -1.6639638 ]\n",
      "SIMILAR/DISSIMILAR DOCS PER MODEL Doc2Vec(dm/m,d50,n5,w5,mc2,s0.001,t3):\n",
      "\n",
      "MOST (0, 0.7223891019821167): «career center ngo title english language courses open to eligibility criteria everyone location yerevan armenia detail description whether you re just getting started already know english and want to improve your skills want to prepare for an exam or test you can find the right course here our instructors help students learn english with most innovative methods career center announces below mentioned english language courses general english course consisting total of levels with the duration of months each beginner elementary pre intermediate intermediate upper intermediate advanced final specialized courses consisting total of levels with the duration of months each business english pre intermediate business english intermediate business english upper intermediate final business english courses also cover special business writing and communication classes application procedures all interested candidates should visit career center office and register as member on mondays fridays from monthly membership fee for all english language courses is amd please note that the complete fee of any level should be paid at the time of starting the classes registered students will pass written placement test accompanied with oral interview and be placed with relevant group registrations are not accepted by mail or telephone for additional inquiries on registration or courses please contact us using below contact information please clearly mention in your application letter that you learned of this training opportunity through career center and mention the url of its website www careercenter am thanks application deadline rolling groups start their classes as soon as there are people about company career center ngo phone fax mail mailbox web site www careercenter am address abovyan str next to the school named after pushkin yerevan armenia about courses newly opened city central location adequately furnished dolby digital classrooms with dvd vcr and tv specially designed ergonomic desks chairs max people in group ensuring efficiency of the courses only highly qualified and certified language instructors selected by career center will teach interested individuals with the latest methods using the most decent study materials for each particular course our classes are conducted in english language only classes will take place in career center office in furnished and warm room for the whole duration of their studies students will be provided with necessary books and materials so they don have to purchase or photocopy any study materials there are no additional charges for using those materials sessions will be held times week and each of those will last hours classes are on from till monday saturdays the attendance hours are assigned to each group according to their designated time schedule all students passing the final level course will get relevant certificates upon completion of their course certificates will match to the level of individual knowledge determined by the final exam results attention those who fail to pass the final level exam test will not get any certificates additional notes when visiting our office for registration please plan to spend about minutes to take the language proficiency test attachments the following attachment to this announcement can be downloaded from http www careercenter am ccdspann php id english language courses in armenian english courses zip to place free posting for job or other career related opportunities available in your organization just go to the www careercenter am website and follow the post an announcement link»\n",
      "\n",
      "SECOND-MOST (1, 0.5633728504180908): «deloitte armenia cjsc title audit assistant term full time open to eligibility criteria all interested and qualified candidates start date time september duration permanent probation up to months location yerevan armenia job description deloitte armenia is looking for successful candidates to fill the position of an audit assistant job participate in audit engagements and audit of financial statements according to ifrs and or other reporting frameworks review the clients accounting system and internal control system carry out audit tests and analytical procedures perform audit work assigned in professional manner in accordance with approved work program participate in preparation of audit reports required qualifications higher education basic knowledge of international financial reporting standards ifrs basic knowledge of the republic of armenia tax and labor legislation at least year of work experience in accounting auditing is plus knowledge of as accountant or other accounting software is mandatory knowledge of english and russian language is mandatory spoken and written ability to meet deadlines with flexibility and professionalism solid audit work paper documentation skills an analytical mind and problem solving abilities dedicated and client oriented approach to work ability to make decisions under pressure strong team player with excellent verbal and written communication skills acca is plus application procedures please submit your detailed cv highlighting your experience and professional education to laghajanyan please clearly indicate the position you apply for applications with no indication of the applying position will not be accepted cvs not meeting required qualification will not be discussed no phone calls please only selected candidates will be contacted for an interview please clearly mention in your application letter that you learned of this job opportunity through career center and mention the url of its website www careercenter am thanks opening date june application deadline july to place free posting for job or other career related opportunities available in your organization just go to the www careercenter am website and follow the post an announcement link»\n",
      "\n",
      "MEDIAN (1, 0.5633728504180908): «deloitte armenia cjsc title audit assistant term full time open to eligibility criteria all interested and qualified candidates start date time september duration permanent probation up to months location yerevan armenia job description deloitte armenia is looking for successful candidates to fill the position of an audit assistant job participate in audit engagements and audit of financial statements according to ifrs and or other reporting frameworks review the clients accounting system and internal control system carry out audit tests and analytical procedures perform audit work assigned in professional manner in accordance with approved work program participate in preparation of audit reports required qualifications higher education basic knowledge of international financial reporting standards ifrs basic knowledge of the republic of armenia tax and labor legislation at least year of work experience in accounting auditing is plus knowledge of as accountant or other accounting software is mandatory knowledge of english and russian language is mandatory spoken and written ability to meet deadlines with flexibility and professionalism solid audit work paper documentation skills an analytical mind and problem solving abilities dedicated and client oriented approach to work ability to make decisions under pressure strong team player with excellent verbal and written communication skills acca is plus application procedures please submit your detailed cv highlighting your experience and professional education to laghajanyan please clearly indicate the position you apply for applications with no indication of the applying position will not be accepted cvs not meeting required qualification will not be discussed no phone calls please only selected candidates will be contacted for an interview please clearly mention in your application letter that you learned of this job opportunity through career center and mention the url of its website www careercenter am thanks opening date june application deadline july to place free posting for job or other career related opportunities available in your organization just go to the www careercenter am website and follow the post an announcement link»\n",
      "\n",
      "LEAST (1, 0.5633728504180908): «deloitte armenia cjsc title audit assistant term full time open to eligibility criteria all interested and qualified candidates start date time september duration permanent probation up to months location yerevan armenia job description deloitte armenia is looking for successful candidates to fill the position of an audit assistant job participate in audit engagements and audit of financial statements according to ifrs and or other reporting frameworks review the clients accounting system and internal control system carry out audit tests and analytical procedures perform audit work assigned in professional manner in accordance with approved work program participate in preparation of audit reports required qualifications higher education basic knowledge of international financial reporting standards ifrs basic knowledge of the republic of armenia tax and labor legislation at least year of work experience in accounting auditing is plus knowledge of as accountant or other accounting software is mandatory knowledge of english and russian language is mandatory spoken and written ability to meet deadlines with flexibility and professionalism solid audit work paper documentation skills an analytical mind and problem solving abilities dedicated and client oriented approach to work ability to make decisions under pressure strong team player with excellent verbal and written communication skills acca is plus application procedures please submit your detailed cv highlighting your experience and professional education to laghajanyan please clearly indicate the position you apply for applications with no indication of the applying position will not be accepted cvs not meeting required qualification will not be discussed no phone calls please only selected candidates will be contacted for an interview please clearly mention in your application letter that you learned of this job opportunity through career center and mention the url of its website www careercenter am thanks opening date june application deadline july to place free posting for job or other career related opportunities available in your organization just go to the www careercenter am website and follow the post an announcement link»\n",
      "\n"
     ]
    }
   ],
   "source": [
    "doc_id = 0\n",
    "print('Document ({}): «{}»\\n'.format(doc_id, ' '.join(train_corpus[doc_id].words)))\n",
    "inferred_vector = model.infer_vector(train_corpus[doc_id].words)\n",
    "print(\"Inferred Vector: {}\".format(inferred_vector))\n",
    "sims = model.docvecs.most_similar([inferred_vector], topn=len(model.docvecs))\n",
    "print(u'SIMILAR/DISSIMILAR DOCS PER MODEL %s:\\n' % model)\n",
    "for label, index in [('MOST', 0), ('SECOND-MOST', 1), ('MEDIAN', len(sims)//2), ('LEAST', len(sims) - 1)]:\n",
    "    print(u'%s %s: «%s»\\n' % (label, sims[index], ' '.join(train_corpus[sims[index][0]].words)))"
   ]
  },
  {
   "cell_type": "markdown",
   "metadata": {},
   "source": [
    "## Testing the Model\n",
    "\n",
    "We'll infer the vector for a randomly chosen test document, and compare the document to our model."
   ]
  },
  {
   "cell_type": "code",
   "execution_count": 17,
   "metadata": {
    "scrolled": true
   },
   "outputs": [
    {
     "name": "stdout",
     "output_type": "stream",
     "text": [
      "Test Document (4926): «armentel cjsc title head of business segment marketing division open to eligibility criteria all interested candidates location yerevan armenia job description job plan kpi and conduct marketing analysis implement products development directions and tendencies mobile and fixed telephony services as well as internet market condition analysis and monitoring for business segment perform analysis and maintenance of actual market pricing offers perform analysis and promotion of value added services for business segment develop and support effective professional relationship with other subdivisions of the company as well as with external organizations and agencies work out strategies and assure preparation of promotion plans for data transfer and internet services convergent solutions and launching new products services special offers accomplish plans aims in accordance with commercial indicators develop and approve initiatives for business market kpi execution manage the marketing mix required qualifications university degree at least years of experience in or related field managerial experience reporting and business writing skills project management skills teambuilding abilities strong analytical skills result oriented personality creativeness sense of responsibility advanced computers skills experience in working with ms office fluency in armenian and russian languages knowledge of english language remuneration salary negotiable salary full medical insurance professional training application procedures qualified and interested candidates are kindly requested to submit cv resume in russian and armenian or english languages to aharonyan str yerevan or by mail hrm in the subject line of your mail message please mention the title of the position you are applying for only shortlisted candidates will be contacted please clearly mention in your application letter that you learned of this job opportunity through career center and mention the url of its website www careercenter am thanks opening date april application deadline april about company for additional information about the company please visit its website www beeline am to place free posting for job or other career related opportunities available in your organization just go to the www careercenter am website and follow the post an announcement link»\n",
      "\n",
      "SIMILAR/DISSIMILAR DOCS PER MODEL Doc2Vec(dm/m,d50,n5,w5,mc2,s0.001,t3):\n",
      "\n",
      "MOST (0, 0.7381444573402405): «career center ngo title english language courses open to eligibility criteria everyone location yerevan armenia detail description whether you re just getting started already know english and want to improve your skills want to prepare for an exam or test you can find the right course here our instructors help students learn english with most innovative methods career center announces below mentioned english language courses general english course consisting total of levels with the duration of months each beginner elementary pre intermediate intermediate upper intermediate advanced final specialized courses consisting total of levels with the duration of months each business english pre intermediate business english intermediate business english upper intermediate final business english courses also cover special business writing and communication classes application procedures all interested candidates should visit career center office and register as member on mondays fridays from monthly membership fee for all english language courses is amd please note that the complete fee of any level should be paid at the time of starting the classes registered students will pass written placement test accompanied with oral interview and be placed with relevant group registrations are not accepted by mail or telephone for additional inquiries on registration or courses please contact us using below contact information please clearly mention in your application letter that you learned of this training opportunity through career center and mention the url of its website www careercenter am thanks application deadline rolling groups start their classes as soon as there are people about company career center ngo phone fax mail mailbox web site www careercenter am address abovyan str next to the school named after pushkin yerevan armenia about courses newly opened city central location adequately furnished dolby digital classrooms with dvd vcr and tv specially designed ergonomic desks chairs max people in group ensuring efficiency of the courses only highly qualified and certified language instructors selected by career center will teach interested individuals with the latest methods using the most decent study materials for each particular course our classes are conducted in english language only classes will take place in career center office in furnished and warm room for the whole duration of their studies students will be provided with necessary books and materials so they don have to purchase or photocopy any study materials there are no additional charges for using those materials sessions will be held times week and each of those will last hours classes are on from till monday saturdays the attendance hours are assigned to each group according to their designated time schedule all students passing the final level course will get relevant certificates upon completion of their course certificates will match to the level of individual knowledge determined by the final exam results attention those who fail to pass the final level exam test will not get any certificates additional notes when visiting our office for registration please plan to spend about minutes to take the language proficiency test attachments the following attachment to this announcement can be downloaded from http www careercenter am ccdspann php id english language courses in armenian english courses zip to place free posting for job or other career related opportunities available in your organization just go to the www careercenter am website and follow the post an announcement link»\n",
      "\n",
      "MEDIAN (1, 0.5738279819488525): «deloitte armenia cjsc title audit assistant term full time open to eligibility criteria all interested and qualified candidates start date time september duration permanent probation up to months location yerevan armenia job description deloitte armenia is looking for successful candidates to fill the position of an audit assistant job participate in audit engagements and audit of financial statements according to ifrs and or other reporting frameworks review the clients accounting system and internal control system carry out audit tests and analytical procedures perform audit work assigned in professional manner in accordance with approved work program participate in preparation of audit reports required qualifications higher education basic knowledge of international financial reporting standards ifrs basic knowledge of the republic of armenia tax and labor legislation at least year of work experience in accounting auditing is plus knowledge of as accountant or other accounting software is mandatory knowledge of english and russian language is mandatory spoken and written ability to meet deadlines with flexibility and professionalism solid audit work paper documentation skills an analytical mind and problem solving abilities dedicated and client oriented approach to work ability to make decisions under pressure strong team player with excellent verbal and written communication skills acca is plus application procedures please submit your detailed cv highlighting your experience and professional education to laghajanyan please clearly indicate the position you apply for applications with no indication of the applying position will not be accepted cvs not meeting required qualification will not be discussed no phone calls please only selected candidates will be contacted for an interview please clearly mention in your application letter that you learned of this job opportunity through career center and mention the url of its website www careercenter am thanks opening date june application deadline july to place free posting for job or other career related opportunities available in your organization just go to the www careercenter am website and follow the post an announcement link»\n",
      "\n",
      "LEAST (1, 0.5738279819488525): «deloitte armenia cjsc title audit assistant term full time open to eligibility criteria all interested and qualified candidates start date time september duration permanent probation up to months location yerevan armenia job description deloitte armenia is looking for successful candidates to fill the position of an audit assistant job participate in audit engagements and audit of financial statements according to ifrs and or other reporting frameworks review the clients accounting system and internal control system carry out audit tests and analytical procedures perform audit work assigned in professional manner in accordance with approved work program participate in preparation of audit reports required qualifications higher education basic knowledge of international financial reporting standards ifrs basic knowledge of the republic of armenia tax and labor legislation at least year of work experience in accounting auditing is plus knowledge of as accountant or other accounting software is mandatory knowledge of english and russian language is mandatory spoken and written ability to meet deadlines with flexibility and professionalism solid audit work paper documentation skills an analytical mind and problem solving abilities dedicated and client oriented approach to work ability to make decisions under pressure strong team player with excellent verbal and written communication skills acca is plus application procedures please submit your detailed cv highlighting your experience and professional education to laghajanyan please clearly indicate the position you apply for applications with no indication of the applying position will not be accepted cvs not meeting required qualification will not be discussed no phone calls please only selected candidates will be contacted for an interview please clearly mention in your application letter that you learned of this job opportunity through career center and mention the url of its website www careercenter am thanks opening date june application deadline july to place free posting for job or other career related opportunities available in your organization just go to the www careercenter am website and follow the post an announcement link»\n",
      "\n"
     ]
    }
   ],
   "source": [
    "# Pick a random document from the test corpus and infer a vector from the model\n",
    "doc_id = random.randint(0, len(test_corpus) - 1)\n",
    "inferred_vector = model.infer_vector(test_corpus[doc_id])\n",
    "sims = model.docvecs.most_similar([inferred_vector], topn=len(model.docvecs))\n",
    "\n",
    "# Compare and print the most/median/least similar documents from the train corpus\n",
    "print('Test Document ({}): «{}»\\n'.format(doc_id, ' '.join(test_corpus[doc_id])))\n",
    "print(u'SIMILAR/DISSIMILAR DOCS PER MODEL %s:\\n' % model)\n",
    "for label, index in [('MOST', 0), ('MEDIAN', len(sims)//2), ('LEAST', len(sims) - 1)]:\n",
    "    print(u'%s %s: «%s»\\n' % (label, sims[index], ' '.join(train_corpus[sims[index][0]].words)))"
   ]
  },
  {
   "cell_type": "code",
   "execution_count": 18,
   "metadata": {},
   "outputs": [
    {
     "name": "stderr",
     "output_type": "stream",
     "text": [
      "C:\\Users\\pankaj.s\\AppData\\Local\\Continuum\\anaconda3\\lib\\site-packages\\smart_open\\smart_open_lib.py:398: UserWarning: This function is deprecated, use smart_open.open instead. See the migration notes for details: https://github.com/RaRe-Technologies/smart_open/blob/master/README.rst#migrating-to-the-new-open-function\n",
      "  'See the migration notes for details: %s' % _MIGRATION_NOTES_URL\n"
     ]
    }
   ],
   "source": [
    "filename = \"outputs/doc2vec_model\"\n",
    "model.save(\"outputs/doc2vec_model\")"
   ]
  },
  {
   "cell_type": "code",
   "execution_count": 19,
   "metadata": {},
   "outputs": [],
   "source": [
    "from gensim.models.doc2vec import Doc2Vec\n",
    "\n",
    "\n",
    "model = Doc2Vec.load(filename)  # you can continue training with the loaded model!\n",
    "model.delete_temporary_training_data(keep_doctags_vectors=True, keep_inference=True)"
   ]
  },
  {
   "cell_type": "markdown",
   "metadata": {},
   "source": [
    "## Using Doc2Vec with SVM"
   ]
  },
  {
   "cell_type": "code",
   "execution_count": 20,
   "metadata": {},
   "outputs": [],
   "source": [
    "train_X, train_y = [], []\n",
    "for corpora in train_corpus:\n",
    "    train_X.append(model.infer_vector(corpora.words))\n",
    "    train_y.append(corpora.tags[0])\n",
    "    \n",
    "train_X = np.array(train_X)\n",
    "train_y = np.array(train_y)"
   ]
  },
  {
   "cell_type": "code",
   "execution_count": 21,
   "metadata": {},
   "outputs": [],
   "source": [
    "test_X = []\n",
    "for corpora in test_corpus:\n",
    "    test_X.append(model.infer_vector(corpora))\n",
    "    \n",
    "test_X = np.array(test_X)"
   ]
  },
  {
   "cell_type": "code",
   "execution_count": 22,
   "metadata": {},
   "outputs": [],
   "source": [
    "test_y = test['label']"
   ]
  },
  {
   "cell_type": "code",
   "execution_count": 23,
   "metadata": {},
   "outputs": [
    {
     "data": {
      "text/plain": [
       "SVC(C=100.0, cache_size=200, class_weight=None, coef0=0.0,\n",
       "    decision_function_shape='ovr', degree=3, gamma=0.001, kernel='rbf',\n",
       "    max_iter=-1, probability=False, random_state=None, shrinking=True,\n",
       "    tol=0.001, verbose=False)"
      ]
     },
     "execution_count": 23,
     "metadata": {},
     "output_type": "execute_result"
    }
   ],
   "source": [
    "from sklearn import svm\n",
    "\n",
    "clf = svm.SVC(gamma=0.001, C=100.)\n",
    "\n",
    "clf.fit(train_X, train_y)"
   ]
  },
  {
   "cell_type": "code",
   "execution_count": 24,
   "metadata": {},
   "outputs": [],
   "source": [
    "import pickle\n",
    "\n",
    "filename = \"outputs/doc2vec_svc.pkl\"\n",
    "pickle.dump(clf, open(filename, 'wb'))"
   ]
  },
  {
   "cell_type": "code",
   "execution_count": 25,
   "metadata": {},
   "outputs": [],
   "source": [
    "import pickle\n",
    "\n",
    "filename = \"outputs/doc2vec_svc.pkl\"\n",
    "clf = pickle.load(open(filename, 'rb'))\n",
    "predicted_y = clf.predict(test_X)"
   ]
  },
  {
   "cell_type": "code",
   "execution_count": 26,
   "metadata": {},
   "outputs": [],
   "source": [
    "import matplotlib.pyplot as plt\n",
    "import itertools\n",
    "from sklearn.metrics import confusion_matrix, classification_report\n",
    "\n",
    "def pretty_print_conf_matrix(y_true, y_pred, \n",
    "                             classes,\n",
    "                             normalize=False,\n",
    "                             title='Confusion matrix',\n",
    "                             cmap=plt.cm.Blues):\n",
    " \n",
    "    cm = confusion_matrix(y_true, y_pred)\n",
    "\n",
    "    # Confusion Matrix Plot \n",
    "    plt.imshow(cm, interpolation='nearest', cmap=cmap)\n",
    "    plt.title(title, fontsize=14)\n",
    "    tick_marks = np.arange(len(classes))\n",
    "    plt.xticks(tick_marks, classes, rotation=45)\n",
    "    plt.yticks(tick_marks, classes)\n",
    "    plt.ylabel('True label', fontsize=12)\n",
    "    plt.xlabel('Predicted label', fontsize=12)\n",
    "\n",
    "    # Calculate normalized values \n",
    "    if normalize:\n",
    "        cm = np.round(cm.astype('float') / cm.sum(),2) #(axis=1)[:, np.newaxis]\n",
    "\n",
    "    # Placing Numbers as Text on Confusion Matrix Plot\n",
    "    thresh = cm.max() / 2.\n",
    "    for i, j in itertools.product(range(cm.shape[0]), range(cm.shape[1])):\n",
    "        plt.text(j, i, cm[i, j],\n",
    "                 horizontalalignment=\"center\",\n",
    "                 color=\"white\" if cm[i, j] > thresh else \"black\",\n",
    "                 fontsize=12)"
   ]
  },
  {
   "cell_type": "code",
   "execution_count": 27,
   "metadata": {},
   "outputs": [
    {
     "data": {
      "image/png": "[encoded data removed]",
      "text/plain": [
       "<Figure size 432x288 with 1 Axes>"
      ]
     },
     "metadata": {
      "needs_background": "light"
     },
     "output_type": "display_data"
    }
   ],
   "source": [
    "pretty_print_conf_matrix(y_true=test_y, y_pred=predicted_y, classes=[\"False\", \"True\"])"
   ]
  },
  {
   "cell_type": "code",
   "execution_count": 28,
   "metadata": {},
   "outputs": [
    {
     "name": "stdout",
     "output_type": "stream",
     "text": [
      "              precision    recall  f1-score   support\n",
      "\n",
      "       False       0.93      0.96      0.94      4573\n",
      "        True       0.81      0.69      0.75      1128\n",
      "\n",
      "    accuracy                           0.91      5701\n",
      "   macro avg       0.87      0.83      0.84      5701\n",
      "weighted avg       0.90      0.91      0.90      5701\n",
      "\n"
     ]
    }
   ],
   "source": [
    "rpt = classification_report(test_y, predicted_y)\n",
    "print(rpt)"
   ]
  },
  {
   "cell_type": "markdown",
   "metadata": {},
   "source": [
    "#In order to correctly classify whether a particular job posting is an IT job or not, we used two columns from the dataset, “jobpost” as the text corpus and “IT” as the label (IT job or not). \n",
    " \n",
    "We have reused the Pre-Processing methods in the Pre-processing section. As performed previously, we have generated the TF-IDF and reduced the dimension through Singular Value Decomposition \n",
    " "
   ]
  },
  {
   "cell_type": "markdown",
   "metadata": {},
   "source": [
    "##After which, Support Vector Machine (SVM) is used to perform classification on whether the job is an IT job or not. Initial Inspection showed that there is an imbalanced class as shown in the figure below. As such, we will change the increase the weightage for those job which are IT jobs. After splitting the available into 70% training and 30% testing, we train our SVM model and we predict on the test partition to obtain the results as shown in the confusion matrix.  \n",
    " \n",
    "This model performed fairly well as F1 score were high on both classes.\n",
    "#The model achieved >90% accuracy on test dataset. \n",
    "\n",
    "#These are the confusion matrix and others scores that were calculated based on the comparison between predicted versus actual target values (IT job or not) of test dataset"
   ]
  }
 ],
 "metadata": {
  "kernelspec": {
   "display_name": "Python 2",
   "language": "python",
   "name": "python2"
  },
  "language_info": {
   "codemirror_mode": {
    "name": "ipython",
    "version": 2
   },
   "file_extension": ".py",
   "mimetype": "text/x-python",
   "name": "python",
   "nbconvert_exporter": "python",
   "pygments_lexer": "ipython2",
   "version": "2.7.16"
  }
 },
 "nbformat": 4,
 "nbformat_minor": 2
}
